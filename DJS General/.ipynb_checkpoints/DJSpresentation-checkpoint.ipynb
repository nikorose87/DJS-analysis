{
 "cells": [
  {
   "cell_type": "markdown",
   "metadata": {
    "hideCode": false,
    "hidePrompt": false,
    "slideshow": {
     "slide_type": "slide"
    }
   },
   "source": [
    "# Dynamic Joint Stiffness of the ankle in human gait: Reviewing and insights of the Data from literature and clinical Databases\n"
   ]
  },
  {
   "cell_type": "markdown",
   "metadata": {
    "slideshow": {
     "slide_type": "slide"
    }
   },
   "source": [
    "# Table of Contents\n",
    "* [Dynamic Joint Stiffness of the ankle in human gait: Reviewing and insights of the Data from literature and clinical Databases](#Dynamic-Joint-Stiffness-of-the-ankle-in-human-gait:-Reviewing-and-insights-of-the-Data-from-literature-and-clinical-Databases)\n",
    "\t* [Highlights](#Highlights)\n",
    "\t* [Introduction](#Introduction)\n",
    "\t* [Methods](#Methods)\n",
    "\t* [Results](#Results)\n",
    "\t* [Discussion](#Discussion)\n",
    "\t* [Future Work](#Future-Work)\n"
   ]
  },
  {
   "cell_type": "markdown",
   "metadata": {
    "hideCode": false,
    "hidePrompt": false,
    "slideshow": {
     "slide_type": "slide"
    }
   },
   "source": [
    "## Highlights"
   ]
  },
  {
   "cell_type": "markdown",
   "metadata": {
    "slideshow": {
     "slide_type": "fragment"
    }
   },
   "source": [
    "- A methodological search was made to find and collect datasets suitable to perform a dynamical analysis in the ankle joint.\n",
    "- A biomechanical analysis was performed for the ankle joint from childhood through adulthood in order to see differences in their dynamic patterns.\n",
    "- An enhanced method for detecting instances in ankle DJS was proposed.\n",
    "- Different gait genders were considered in the study.\n",
    "- The information collected could be useful for prosthesis designers and control engineers."
   ]
  },
  {
   "cell_type": "markdown",
   "metadata": {
    "slideshow": {
     "slide_type": "slide"
    }
   },
   "source": [
    "## State of the art."
   ]
  },
  {
   "cell_type": "markdown",
   "metadata": {
    "slideshow": {
     "slide_type": "subslide"
    }
   },
   "source": [
    "### Introduction\n",
    "\n",
    "- Concept adopted by \\cite{Davis1996} in which they defined this concept as: The resistance that the muscle and other soft tissue structures that cross a joint offer during gait in response to an applied moment.\n",
    "\n",
    "<center><img src=\"./figures/davis.PNG\" alt=\"drawing\" width=\"500px\"/></center>"
   ]
  },
  {
   "cell_type": "markdown",
   "metadata": {
    "slideshow": {
     "slide_type": "subslide"
    }
   },
   "source": [
    "- The importance of the DJS for prosthetic application in the ankle joint was coined by \\cite{Hansen2004}. There, important insights were revealed. Another studies such as \\cite{Safaeepour2014} mention the same aspects. However, a proposed concept of quasi-stiffness in active prostheses was given by \\cite{Rouse2013a}.\n",
    "\n",
    "<center>\n",
    "<div class=\"row\">\n",
    "    <div class=\"column\">\n",
    "        <img src=\"./figures/fastQuasi.png\" alt=\"Fast\" style=\"width:40%\">\n",
    "    </div>\n",
    "    <div class=\"column\">\n",
    "        <img src=\"./figures/NormalQuasi.png\" alt=\"Normal\" style=\"width:40%\">\n",
    "    </div>\n",
    "    <div class=\"column\">\n",
    "        <img src=\"./figures/SlowQuasi.png\" alt=\"Slow\" style=\"width:40%\">\n",
    "    </div>\n",
    "</div> \n",
    "</center>"
   ]
  },
  {
   "cell_type": "markdown",
   "metadata": {
    "slideshow": {
     "slide_type": "subslide"
    }
   },
   "source": [
    "Later, \\cite{Crenna2011} established a method for linearized the instances of the ankle DJS.\n",
    "\n",
    "<center><img src=\"./figures/slopesphases.png\" alt=\"drawing\" width=\"600px\"/></center>\n",
    "\n",
    "Where the Threshold 1 is set when the moment increased up to 5%, the Threshold 2 is set at 95% of the maximum moment, for the maximum limit of the Early Response Phase and the beginning of the Large Response Phase, they apply the following equation:\n",
    "\n",
    "\\begin{equation}\n",
    "S_{i} = (M_{i+1}-M{i})/(\\theta_{i+1}-\\theta{i}) >= 1.7\n",
    "\\end{equation}\n",
    "\n",
    "Now, applying the limits to the function we can obtain the coefficients with the form: $Y=a+bx$ on each method.\n",
    "\n",
    "Also, they made the energetic analysis of this human joint, as the image shows.\n",
    "\n",
    "<center><img src=\"./figures/Wproduced.png\" alt=\"drawing\" width=\"600px\"/></center>\n",
    "\n",
    "To calculate the work along the x-axis, the Simpon's Rule was applied. Mathematically this rule is represented as: \n",
    "\\begin{equation}\n",
    "Area=\\int_{a}^{b}f(x)dx\\thickapprox\\frac{\\triangle x}{3}[y_{0}+4\\sum odds+2\\sum even+y_{n}]\n",
    "\\end{equation}\n",
    "\n",
    "### Types of Quasi-stiffness\n",
    "\n",
    "<center><img src=\"./figures/QuasiTypes.png\" alt=\"drawing\" width=\"800px\"/></center>"
   ]
  },
  {
   "cell_type": "markdown",
   "metadata": {
    "slideshow": {
     "slide_type": "subslide"
    }
   },
   "source": [
    "- \\cite{Shamaei2013} proposed the identification of the key independent parameters needed to predict ankle quasi-stiffness and propulsive work and also the functional form of each correlation.\n",
    "\n",
    "\n",
    "<center><img src=\"./figures/Shamaei.png\" alt=\"drawing\" width=\"400px\"/></center>\n",
    "\n"
   ]
  },
  {
   "cell_type": "markdown",
   "metadata": {
    "hideCode": false,
    "hidePrompt": false,
    "slideshow": {
     "slide_type": "slide"
    }
   },
   "source": [
    "## Motivation\n",
    "\n",
    "- Dynamic Joint Stiffness can be used either for studying pathologic abnormalities and to develop prostheses and orthoses \\cite{Sanchis-Sales2016}.\n",
    "\n",
    "- Many studies support the DJS analysis as the primary input for any prosthetic or orthetic device  (e.g. \\cite{Au2009, Herr2012, Dong2017, Holgate2017}). \n",
    "\n",
    "<center><img src=\"./figures/Quasi-stiffness.png\" alt=\"drawing\" width=\"500px\"/></center>\n",
    "\n",
    "- On the other hand, the DJS is use to contrast any pathological with non-pathological behavior (e.g. \\cite{Aleixo2015, Wang2012}) and predict irregular patterns in the ankle dynamics.\n",
    "\n",
    "- The DJS of the human ankle has been studied to find dynamical patterns such that changes in gender \\cite{Gabriel2008}, gender and age \\cite{Crenna2011} , and anthropometrics \\cite{Powell2014}.\n",
    "\n",
    "- The importance of reusing the data is highly remarkable by \\cite{white2013} and for that reason would be helpful for the research community to show proof of homogeneity in the data. \n",
    "\n",
    "- Many databases were created with the aim of collecting human gait data as \\cite{Tirosh2010, Mandery2016, Hu2018}, but they are not useful at all for dynamic analysis purposes.\n",
    "\n",
    "- Mention the importance for AI.\n"
   ]
  },
  {
   "cell_type": "markdown",
   "metadata": {
    "hideCode": false,
    "hidePrompt": false,
    "slideshow": {
     "slide_type": "slide"
    }
   },
   "source": [
    "## Methods"
   ]
  },
  {
   "cell_type": "markdown",
   "metadata": {
    "hideCode": false,
    "hidePrompt": false,
    "slideshow": {
     "slide_type": "subslide"
    }
   },
   "source": [
    "### Literature Search\n",
    "\n",
    "<center><img src=\"./figures/Literature_Search3.png\" alt=\"drawing\" width=\"800px\"/></center>"
   ]
  },
  {
   "cell_type": "markdown",
   "metadata": {
    "hideCode": false,
    "hidePrompt": false,
    "slideshow": {
     "slide_type": "subslide"
    }
   },
   "source": [
    "### Online Gait Database search\n",
    "\n",
    "<table>\n",
    "<caption>Criteria of the data to be processed in the study of the ankle DJS<span label=\"table:Criteria\"></span></caption>\n",
    "<thead>\n",
    "<tr class=\"header\">\n",
    "<th style=\"text-align: center;\">ID</th>\n",
    "<th style=\"text-align: center;\">Requirement</th>\n",
    "</tr>\n",
    "</thead>\n",
    "<tbody>\n",
    "<tr class=\"odd\">\n",
    "<td style=\"text-align: center;\">1</td>\n",
    "<td style=\"text-align: center;\">It should be related with regular gait</td>\n",
    "</tr>\n",
    "<tr class=\"even\">\n",
    "<td style=\"text-align: center;\">2</td>\n",
    "<td style=\"text-align: center;\">Not older than 10 years ago.</td>\n",
    "</tr>\n",
    "<tr class=\"odd\">\n",
    "<td style=\"text-align: center;\">3</td>\n",
    "<td style=\"text-align: center;\">Definitely, it must contain kinetic information.</td>\n",
    "</tr>\n",
    "<tr class=\"even\">\n",
    "<td style=\"text-align: center;\">4</td>\n",
    "<td style=\"text-align: center;\">The format given should be familiar with standard data in human gait, e.g., C3D, CSV, txt.</td>\n",
    "</tr>\n",
    "<tr class=\"odd\">\n",
    "<td style=\"text-align: center;\">5</td>\n",
    "<td style=\"text-align: center;\">It should be well organized and unrestrictable</td>\n",
    "</tr>\n",
    "<tr class=\"even\">\n",
    "<td style=\"text-align: center;\">6</td>\n",
    "<td style=\"text-align: center;\">It must contain the methods of how it was measured.</td>\n",
    "</tr>\n",
    "</tbody>\n",
    "</table>"
   ]
  },
  {
   "cell_type": "markdown",
   "metadata": {
    "slideshow": {
     "slide_type": "-"
    }
   },
   "source": [
    "### Selection of the data\n",
    "\n",
    "<table>\n",
    "<caption>Clinical Databases found in the web.</caption>\n",
    "<tbody>\n",
    "<tr class=\"odd\">\n",
    "<td style=\"text-align: center;\"></td>\n",
    "<td style=\"text-align: left;\"></td>\n",
    "<td style=\"text-align: left;\"></td>\n",
    "<td style=\"text-align: left;\"></td>\n",
    "<td style=\"text-align: left;\"></td>\n",
    "<td style=\"text-align: center;\"></td>\n",
    "<td style=\"text-align: center;\"></td>\n",
    "<td style=\"text-align: center;\"></td>\n",
    "<td style=\"text-align: center;\"></td>\n",
    "<td style=\"text-align: center;\"></td>\n",
    "<td style=\"text-align: center;\"></td>\n",
    "<td style=\"text-align: left;\"></td>\n",
    "</tr>\n",
    "<tr class=\"even\">\n",
    "<td style=\"text-align: center;\"></td>\n",
    "<td style=\"text-align: left;\"></td>\n",
    "<td style=\"text-align: left;\"></td>\n",
    "<td style=\"text-align: left;\"></td>\n",
    "<td style=\"text-align: left;\"></td>\n",
    "<td style=\"text-align: center;\">1</td>\n",
    "<td style=\"text-align: center;\">2</td>\n",
    "<td style=\"text-align: center;\">3</td>\n",
    "<td style=\"text-align: center;\">4</td>\n",
    "<td style=\"text-align: center;\">5</td>\n",
    "<td style=\"text-align: center;\">6</td>\n",
    "<td style=\"text-align: left;\"></td>\n",
    "</tr>\n",
    "<tr class=\"odd\">\n",
    "<td style=\"text-align: center;\">1</td>\n",
    "<td style=\"text-align: left;\">Physiobank databases <span class=\"citation\" data-cites=\"Physionet\"></span></td>\n",
    "<td style=\"text-align: left;\">&lt;100</td>\n",
    "<td style=\"text-align: left;\">3D motion</td>\n",
    "<td style=\"text-align: left;\">.dat</td>\n",
    "<td style=\"text-align: center;\">X</td>\n",
    "<td style=\"text-align: center;\">-</td>\n",
    "<td style=\"text-align: center;\">-</td>\n",
    "<td style=\"text-align: center;\">O</td>\n",
    "<td style=\"text-align: center;\">O</td>\n",
    "<td style=\"text-align: center;\">O</td>\n",
    "<td style=\"text-align: left;\">0</td>\n",
    "</tr>\n",
    "<tr class=\"even\">\n",
    "<td style=\"text-align: center;\">2</td>\n",
    "<td style=\"text-align: left;\">Clinical Gait analysis <span class=\"citation\" data-cites=\"clinical-database\"></span></td>\n",
    "<td style=\"text-align: left;\">13</td>\n",
    "<td style=\"text-align: left;\">3D motion, EMG</td>\n",
    "<td style=\"text-align: left;\">.m .txt .xls</td>\n",
    "<td style=\"text-align: center;\">O</td>\n",
    "<td style=\"text-align: center;\">X</td>\n",
    "<td style=\"text-align: center;\">O</td>\n",
    "<td style=\"text-align: center;\">O</td>\n",
    "<td style=\"text-align: center;\">O</td>\n",
    "<td style=\"text-align: center;\">O</td>\n",
    "<td style=\"text-align: left;\">1</td>\n",
    "</tr>\n",
    "<tr class=\"odd\">\n",
    "<td style=\"text-align: center;\">3</td>\n",
    "<td style=\"text-align: left;\">Koroibot <span class=\"citation\" data-cites=\"Mandery2016\"></span></td>\n",
    "<td style=\"text-align: left;\">544</td>\n",
    "<td style=\"text-align: left;\">3D motion, pressure, EMG</td>\n",
    "<td style=\"text-align: left;\">mmm, c3d, csv</td>\n",
    "<td style=\"text-align: center;\">O</td>\n",
    "<td style=\"text-align: center;\">O</td>\n",
    "<td style=\"text-align: center;\">-</td>\n",
    "<td style=\"text-align: center;\">O</td>\n",
    "<td style=\"text-align: center;\">O</td>\n",
    "<td style=\"text-align: center;\">O</td>\n",
    "<td style=\"text-align: left;\">10</td>\n",
    "</tr>\n",
    "<tr class=\"even\">\n",
    "<td style=\"text-align: center;\">4</td>\n",
    "<td style=\"text-align: left;\">Motion Capture HDM05 <span class=\"citation\" data-cites=\"HDM05\"></span></td>\n",
    "<td style=\"text-align: left;\">&lt; 50</td>\n",
    "<td style=\"text-align: left;\">3D Motion</td>\n",
    "<td style=\"text-align: left;\">c3d, amc</td>\n",
    "<td style=\"text-align: center;\">O</td>\n",
    "<td style=\"text-align: center;\">O</td>\n",
    "<td style=\"text-align: center;\">X</td>\n",
    "<td style=\"text-align: center;\">O</td>\n",
    "<td style=\"text-align: center;\">O</td>\n",
    "<td style=\"text-align: center;\">O</td>\n",
    "<td style=\"text-align: left;\">0</td>\n",
    "</tr>\n",
    "<tr class=\"odd\">\n",
    "<td style=\"text-align: center;\">5</td>\n",
    "<td style=\"text-align: left;\">CMU Graphics Lab Motion Capture <span class=\"citation\" data-cites=\"Mellon\"></span></td>\n",
    "<td style=\"text-align: left;\">&lt; 50</td>\n",
    "<td style=\"text-align: left;\">3D motion</td>\n",
    "<td style=\"text-align: left;\">tvd, c3d, amc, mpg</td>\n",
    "<td style=\"text-align: center;\">O</td>\n",
    "<td style=\"text-align: center;\">-</td>\n",
    "<td style=\"text-align: center;\">X</td>\n",
    "<td style=\"text-align: center;\">O</td>\n",
    "<td style=\"text-align: center;\">O</td>\n",
    "<td style=\"text-align: center;\">-</td>\n",
    "<td style=\"text-align: left;\">0</td>\n",
    "</tr>\n",
    "<tr class=\"even\">\n",
    "<td style=\"text-align: center;\">6</td>\n",
    "<td style=\"text-align: left;\">MAREA Dataset <span class=\"citation\" data-cites=\"Khandelwal2017\"></span></td>\n",
    "<td style=\"text-align: left;\">2</td>\n",
    "<td style=\"text-align: left;\">Acelerometers</td>\n",
    "<td style=\"text-align: left;\">.m</td>\n",
    "<td style=\"text-align: center;\">O</td>\n",
    "<td style=\"text-align: center;\">O</td>\n",
    "<td style=\"text-align: center;\">X</td>\n",
    "<td style=\"text-align: center;\">-</td>\n",
    "<td style=\"text-align: center;\">O</td>\n",
    "<td style=\"text-align: center;\">O</td>\n",
    "<td style=\"text-align: left;\">1</td>\n",
    "</tr>\n",
    "<tr class=\"odd\">\n",
    "<td style=\"text-align: center;\">7</td>\n",
    "<td style=\"text-align: left;\">ENABL3S <span class=\"citation\" data-cites=\"Hu2018\"></span></td>\n",
    "<td style=\"text-align: left;\">1</td>\n",
    "<td style=\"text-align: left;\">EMG, GONIO, IMU</td>\n",
    "<td style=\"text-align: left;\">csv</td>\n",
    "<td style=\"text-align: center;\">O</td>\n",
    "<td style=\"text-align: center;\">O</td>\n",
    "<td style=\"text-align: center;\">X</td>\n",
    "<td style=\"text-align: center;\">O</td>\n",
    "<td style=\"text-align: center;\">O</td>\n",
    "<td style=\"text-align: center;\">O</td>\n",
    "<td style=\"text-align: left;\">1</td>\n",
    "</tr>\n",
    "<tr class=\"even\">\n",
    "<td style=\"text-align: center;\">8</td>\n",
    "<td style=\"text-align: left;\">Gaitabase <span class=\"citation\" data-cites=\"Tirosh2010\"></span></td>\n",
    "<td style=\"text-align: left;\">1</td>\n",
    "<td style=\"text-align: left;\">N.A.</td>\n",
    "<td style=\"text-align: left;\">N.A.</td>\n",
    "<td style=\"text-align: center;\">X</td>\n",
    "<td style=\"text-align: center;\">X</td>\n",
    "<td style=\"text-align: center;\">X</td>\n",
    "<td style=\"text-align: center;\">X</td>\n",
    "<td style=\"text-align: center;\">X</td>\n",
    "<td style=\"text-align: center;\">X</td>\n",
    "<td style=\"text-align: left;\">1</td>\n",
    "</tr>\n",
    "</tbody>\n",
    "</table>\n",
    "<p><strong>Note:</strong> The table represents the level of accomplishment in Table <a href=\"#table:Criteria\" data-reference-type=\"ref\" data-reference=\"table:Criteria\">[table:Criteria]</a>, where (O) meets, (-) fulfill partially and (X) does not meet the requirement. <span id=\"table:Databases\" label=\"table:Databases\">[table:Databases]</span></p>\n",
    "\n"
   ]
  },
  {
   "cell_type": "markdown",
   "metadata": {
    "slideshow": {
     "slide_type": "slide"
    }
   },
   "source": [
    "## Methodology\n",
    "   We implemented the python programming language because it integrates\n",
    "libraries that concerns with the PhD thesis, such as: Opensim for\n",
    "biomechanical modeling, numpy for numerical computing, SciPy for optimization techniques, bokeh for graphical\n",
    "representations, Scikit learn to get regression models, Pandas to manage DataSets and jupyter to present information in notebooks. In not all cases all the libraries were implemented.\n",
    "\n",
    "In that order of ideas, we describe the activities done with every study\n",
    "found in the literature as well as in gait Databases, which are\n",
    "mentioned below:\n",
    " \n",
    "\\begin{itemize}\n",
    "\\item Selecting, filtering and cleaning the data.\n",
    "\\item Obtaining physical variables and visualizing behaviors at the ankle\n",
    "joint.\n",
    "\\begin{itemize}\n",
    "\\item Obtaining the integral as the area under a curve through\n",
    "Simpson's Rule of ankle power and ankle DJS.\n",
    "\\item Visualizing the ankle powers and ankle DJS at different speeds, modes of walking, ages, etc.\n",
    "\\item Obtaining the work done (work absorbed, work produced and net work) through the integration of the power loop.\n",
    "\\end{itemize}\n",
    "\\item Configuring Dynamic Joint Stiffness variables, such as sub-phases of gait and linear slopes. \n",
    "\\begin{itemize}\n",
    "\\item Plotting the angle-moment loop at different speeds, modes and ages.\n",
    "\\item Determining the dorsi-flexion limit point, the bottom and the top\n",
    "threshold through two ways:\n",
    "\\begin{itemize}\n",
    "\\item As mentioned by Crenna and Frigo \\cite{Crenna2011}.\n",
    "\\item As mentioned by Shamaei et al. \\cite{Shamaei2013}.\n",
    "\\end{itemize} \n",
    "\\end{itemize}\n",
    "\\item Making the linear regression at each sub-phase, doing these at different ways, such as:\n",
    "\\begin{itemize}\n",
    "\\item Using Least Squared Methods with Scikit-learn tool.\n",
    "\\item Using Non-linear Least Squared Methods through SciPy Library.\n",
    "\\end{itemize}\n",
    "\\end{itemize}\n",
    "\n",
    "\n"
   ]
  },
  {
   "cell_type": "markdown",
   "metadata": {
    "hideCode": false,
    "hidePrompt": false,
    "slideshow": {
     "slide_type": "slide"
    }
   },
   "source": [
    "## Results\n",
    "\n"
   ]
  },
  {
   "cell_type": "markdown",
   "metadata": {},
   "source": [
    "<table>\n",
    "<thead>\n",
    "<tr class=\"header\">\n",
    "<th style=\"text-align: left;\">Year</th>\n",
    "<th style=\"text-align: left;\">Title</th>\n",
    "<th style=\"text-align: left;\">Authors</th>\n",
    "<th style=\"text-align: left;\">Subjects</th>\n",
    "<th style=\"text-align: left;\">Method</th>\n",
    "<th style=\"text-align: left;\">General Observations</th>\n",
    "<th style=\"text-align: left;\">Type of file</th>\n",
    "</tr>\n",
    "</thead>\n",
    "<tbody>\n",
    "<tr class=\"odd\">\n",
    "<td style=\"text-align: left;\">2006</td>\n",
    "<td style=\"text-align: left;\">Regression analysis of gait parameters with speed in normal children walking at self-selected speeds.</td>\n",
    "<td style=\"text-align: left;\"> \\cite{Stansfield2006}</td>\n",
    "<td style=\"text-align: left;\">16</td>\n",
    "<td style=\"text-align: left;\">Ground reaction forces (Kistler Instruments, AG Winterthur, Switzerland) and motion analysis data (five camera stystem—Vicon, Oxford Metrics Group, Oxford, UK) were collected at 50 Hz. Inverse dynamics were calculated with Vicon Clinical Manager.</td>\n",
    "<td style=\"text-align: left;\">Children between the ages of 7 and 12 years (eight boys and eight girls) each year for 5 consecutive years. Children walked barefoot at self-selected normal velocities. GRF were calculated for approximately three sets of data for each leg for each child for each of the 5 consecutive years of the study (a total of 457 trials). Weight, height and leg length (greater trochanter to lateral malleolus) data were recorded.</td>\n",
    "<td style=\"text-align: left;\">.xls</td>\n",
    "</tr>\n",
    "<tr class=\"even\">\n",
    "<td style=\"text-align: left;\">2008</td>\n",
    "<td style=\"text-align: left;\">The effect of walking speed on the gait of typically developing children</td>\n",
    "<td style=\"text-align: left;\">\\cite{Schwartz2008}</td>\n",
    "<td style=\"text-align: left;\">83</td>\n",
    "<td style=\"text-align: left;\">12-camera Vicon MX system (Vicon,Oxford, UK) operating at 120 Hz. Ground reaction forces were recorded using four force plates (AMTI, Watertown, MA), sampled at 1080 Hz. Surface EMG signals were also measured.</td>\n",
    "<td style=\"text-align: left;\">Three-dimensional gait data was collected on 83 subjects who were given general instructions to walk at very slow, slow, self-selected comfortable (free), and fast walking speeds during a single testing session.</td>\n",
    "<td style=\"text-align: left;\">.xls</td>\n",
    "</tr>\n",
    "<tr class=\"odd\">\n",
    "<td style=\"text-align: left;\">2011</td>\n",
    "<td style=\"text-align: left;\">A multiple-task gait analysis approach: Kinematic, kinetic and EMG reference data for healthy young and adult subjects</td>\n",
    "<td style=\"text-align: left;\">\\cite{Bovi2011a}</td>\n",
    "<td style=\"text-align: left;\">40</td>\n",
    "<td style=\"text-align: left;\"><p>3D kinematics was measured using a 9-cameras SMART-E motion capture system (BTS). Two force plates (Kistler, Winterthur, Switzerland), at 960 Hz sampling frequency, provided ground reaction forces (GRFs)</p></td>\n",
    "<td style=\"text-align: left;\">20 subjects included in the adult group (aged from 22 to 72 years, mean 43.1 15.4; body mass 68.5 15.8 kg; height 1.71 0.10 m; 9 males, 11 females) and 20 in the young group (aged from 6 to 17 years, mean 10.8 3.2; body mass 41.4 15.5 kg; height 1.47 0.20 m; 9 males, 11 females).</td>\n",
    "<td style=\"text-align: left;\">.xls</td>\n",
    "</tr>\n",
    "<tbody>\n",
    "<tr class=\"even\">\n",
    "<td style=\"text-align: left;\">2015</td>\n",
    "<td style=\"text-align: left;\">An elaborate data set on human gait and the effect of mechanical perturbations.</td>\n",
    "<td style=\"text-align: left;\">\\cite{Moore2015}</td>\n",
    "<td style=\"text-align: left;\">15</td>\n",
    "<td style=\"text-align: left;\">A R-Mill treadmill which has dual 6 degree of freedom force plates, independent belts for each foot, along with lateral translation and pitch rotation capabilities. A 10 Osprey camera motion capture system. Four ADXL330 Triple Axis Accelerometer Breakout boards attached to the treadmill.</td>\n",
    "<td style=\"text-align: left;\">Four females and eleven males with an average age of 244 years, height of 1.750.09 m, mass of 7413 kg participated in the study.</td>\n",
    "<td style=\"text-align: left;\">.txt</td>\n",
    "</tr>\n",
    "<tr class=\"odd\">\n",
    "<td style=\"text-align: left;\">2018</td>\n",
    "<td style=\"text-align: left;\">Benchmark Datasets for Bilateral Lower-Limb Neuromechanical Signals from Wearable Sensors during Unassisted Locomotion in Able-Bodied Individuals</td>\n",
    "<td style=\"text-align: left;\">\\cite{Hu2018} </td>\n",
    "<td style=\"text-align: left;\">10</td>\n",
    "<td style=\"text-align: left;\">Subjects were instrumented with wearable sensors to measure bilateral lower limb muscle activity and joint and limb kinematics. EMG signals were recorded using bipolar surface electrodes (DE2.1; Delsys, Boston, MA, USA)</td>\n",
    "<td style=\"text-align: left;\">10 subjects (seven male, three female); 25.5 2 years; 174 12 cm; 70 14 kg without any gait impairments were recruited.</td>\n",
    "<td style=\"text-align: left;\">csv</td>\n",
    "</tr>\n",
    "<tr class=\"even\">\n",
    "<td style=\"text-align: left;\">2017</td>\n",
    "<td style=\"text-align: left;\"><p>Evaluation of the performance of accelerometer-based gait event detection algorithms in different real-world scenarios using the MAREA gait database</p></td>\n",
    "<td style=\"text-align: left;\">\\cite{Khandelwal2017}</td>\n",
    "<td style=\"text-align: left;\">20</td>\n",
    "<td style=\"text-align: left;\">Each subject had a 3-axes Shimmer3 (Shimmer Research, Dublin, Ireland) accelerometer (8 g) attached to their waist, left wrist and left and right ankles using elastic bands and velcro straps.</td>\n",
    "<td style=\"text-align: left;\">20 healthy adults:12 males and 8 females, average age: 33.4 7 years, average mass: 73.2 10.9 kg, average height: 172.6 9.5 cm.</td>\n",
    "<td style=\"text-align: left;\">.mat</td>\n",
    "</tr>\n",
    "</tbody>\n",
    "</table>\n",
    "\n"
   ]
  },
  {
   "cell_type": "markdown",
   "metadata": {},
   "source": [
    "## Data\n",
    "\n",
    "[A multiple-task gait analysis approach: Kinematic, kinetic and EMG reference data for healthy young and adult subjects](Ferrarin Data-Presentation.ipynb)\n",
    "\n",
    "[Ankle DJS analyze in children at different velocities](Stansfield-and-Schwaltz.ipynb)"
   ]
  },
  {
   "cell_type": "markdown",
   "metadata": {
    "hideCode": false,
    "hidePrompt": false,
    "slideshow": {
     "slide_type": "slide"
    }
   },
   "source": [
    "## Discussion\n",
    "\n",
    "- Recent online databases for human gait need to be fed and could be focused on to human improvements, due to the search demonstrated that most of databases are oriented to other purposes as: motion, robotics, etc.\n",
    "\n",
    "- Recent techniques showed to set the instances in the quasi-stiffness slope are inefficient for a wide range of speed, It is recommended to apply the curvature in those cases.\n",
    "\n",
    "- Comparing data between similar subjects shows regularities in terms of the type of quasi-stiffness given.\n",
    "\n",
    "- The DJS in children at lower speeds and irregular walking (e.g. toes, heel, and descending) showed a clockwise behavior.\n",
    "\n",
    "- A narrow quasi-stiffness was seen in children at lower speed. On the other hand, at higher speed in children a rounded DJS was observed in them."
   ]
  },
  {
   "cell_type": "markdown",
   "metadata": {
    "hideCode": false,
    "hidePrompt": false,
    "slideshow": {
     "slide_type": "slide"
    }
   },
   "source": [
    "## Future Work\n",
    "\n",
    "- Conssidering the statistics in the overall data.\n",
    "- A possible classifier for a pathological DJS can be done if more data is collected.\n",
    "- A meta analysis for all types of data might be useful.\n",
    "- Finishing the data analysis for the rest of the data.\n"
   ]
  },
  {
   "cell_type": "markdown",
   "metadata": {
    "slideshow": {
     "slide_type": "slide"
    }
   },
   "source": [
    "# References\n",
    "\n",
    "(<a id=\"cit-Davis1996\" href=\"#call-Davis1996\">Davis and DeLuca, 1996</a>) Davis Roy B. and DeLuca Peter A., ``_Gait characterization via dynamic joint stiffness_'', Gait and Posture, vol. 4, number 3, pp. 224--231,  1996.\n",
    "\n",
    "(<a id=\"cit-Hansen2004\" href=\"#call-Hansen2004\">Hansen, Childress <em>et al.</em>, 2004</a>) Hansen Andrew H., Childress Dudley S., Miff Steve C. <em>et al.</em>, ``_The human ankle during walking: Implications for design of biomimetic ankle prostheses_'', Journal of Biomechanics, vol. 37, number , pp. 1467--1474,  2004.\n",
    "\n",
    "(<a id=\"cit-Safaeepour2014\" href=\"#call-Safaeepour2014\">Safaeepour, Esteki <em>et al.</em>, 2014</a>) Safaeepour Zahra, Esteki Ali, Ghomshe Farhad T. <em>et al.</em>, ``_Quantitative analysis of human ankle characteristics at different gait phases and speeds for utilizing in ankle-foot prosthetic design_'', BioMedical Engineering Online, vol. 13, number 1, pp. 1--8,  2014.\n",
    "\n",
    "(<a id=\"cit-Rouse2013a\" href=\"#call-Rouse2013a\">Rouse, Gregg <em>et al.</em>, 2013</a>) Rouse Elliott J., Gregg Robert D., Hargrove Levi J. <em>et al.</em>, ``_The difference between stiffness and quasi-stiffness in the context of biomechanical modeling_'', IEEE Transactions on Biomedical Engineering, vol. 60, number 2, pp. 562--568,  2013.\n",
    "\n",
    "(<a id=\"cit-Crenna2011\" href=\"#call-Crenna2011\">Crenna and Frigo, 2011</a>) Crenna Paolo and Frigo Carlo, ``_Dynamics of the ankle joint analyzed through moment-angle loops during human walking: gender and age effects._'', Human movement science, vol. 30, number 6, pp. 1185--98, dec 2011.  [online](http://www.sciencedirect.com/science/article/pii/S016794571100073X)\n",
    "\n",
    "(<a id=\"cit-Shamaei2013\" href=\"#call-Shamaei2013\">Shamaei, Sawicki <em>et al.</em>, 2013</a>) Shamaei Kamran, Sawicki Gregory S. and Dollar Aaron M., ``_Estimation of Quasi-Stiffness and Propulsive Work of the Human Ankle in the Stance Phase of Walking_'', PLoS ONE, vol. 8, number 3, pp. ,  2013.\n",
    "\n",
    "(<a id=\"cit-Sanchis-Sales2016\" href=\"#call-Sanchis-Sales2016\">Sanchis-Sales, Sancho-Bru <em>et al.</em>, 2016</a>) Sanchis-Sales Enrique, Sancho-Bru Joaquin L, Roda-Sales Alba <em>et al.</em>, ``_Dynamic Flexion Stiffness of Foot Joints During Walking._'', Journal of the American Podiatric Medical Association, vol. 106, number 1, pp. 37--46,  2016.  [online](http://www.ncbi.nlm.nih.gov/pubmed/26895359)\n",
    "\n",
    "(<a id=\"cit-Au2009\" href=\"#call-Au2009\">Au, Weber <em>et al.</em>, 2009</a>) Au S K, Weber Jeff and Herr Hugh, ``_Powered Ankle--Foot Prosthesis Improves Walking Metabolic Economy_'', IEEE Transactions on Robotics, vol. 25, number 1, pp. 51--66,  2009.  [online](http://ieeexplore.ieee.org/document/4738392/)\n",
    "\n",
    "(<a id=\"cit-Herr2012\" href=\"#call-Herr2012\">Herr and Grabowski, 2012</a>) Herr H M and Grabowski a. M, ``_Bionic ankle-foot prosthesis normalizes walking gait for persons with leg amputation_'', Proceedings of the Royal Society B: Biological Sciences, vol. 279, number 1728, pp. 457--464,  2012.\n",
    "\n",
    "(<a id=\"cit-Dong2017\" href=\"#call-Dong2017\">Dong, Ge <em>et al.</em>, 2017</a>) Dong Dianbiao, Ge Wenjie, Liu Shumin <em>et al.</em>, ``_Design and optimization of a powered ankle-foot prosthesis using a geared five-bar spring mechanism_'', International Journal of Advanced Robotic Systems, vol. 14, number 3, pp. 172988141770454, may 2017.  [online](http://journals.sagepub.com/doi/10.1177/1729881417704545)\n",
    "\n",
    "(<a id=\"cit-Holgate2017\" href=\"#call-Holgate2017\">Holgate, Sugar <em>et al.</em>, 2017</a>) R. Holgate, T. Sugar, A. Nash <em>et al.</em>, ``_A Passive Ankle-Foot Prosthesis With Energy Return to Mimic Able-Bodied Gait_'', Volume 5A: 41st Mechanisms and Robotics Conference, aug 2017.  [online](http://proceedings.asmedigitalcollection.asme.org/proceeding.aspx?doi=10.1115/DETC2017-67192)\n",
    "\n",
    "(<a id=\"cit-Aleixo2015\" href=\"#call-Aleixo2015\">Aleixo, {Vaz Patto} <em>et al.</em>, 2015</a>) Aleixo P, {Vaz Patto} J, Roupa I <em>et al.</em>, ``_Dynamic joint stiffness of the ankle in healthy and rheumatoid arthritis postmenopausal women_'', Gait \\& Posture, vol. 60, number October 2017, pp. 225--234,  2015.  [online](https://doi.org/10.1016/j.gaitpost.2017.12.008)\n",
    "\n",
    "(<a id=\"cit-Wang2012\" href=\"#call-Wang2012\">Wang, Brostr{\\\"{o}}m <em>et al.</em>, 2012</a>) Wang Ruoli, Brostr{\\\"{o}}m Eva W., Esbj{\\\"{o}}rnsson Anna Clara <em>et al.</em>, ``_Analytical decomposition can help to interpret ankle joint moment-angle relationship_'', Journal of Electromyography and Kinesiology, vol. 22, number 4, pp. 566--574,  2012.  [online](http://dx.doi.org/10.1016/j.jelekin.2012.04.005)\n",
    "\n",
    "(<a id=\"cit-Gabriel2008\" href=\"#call-Gabriel2008\">Gabriel, Abrantes <em>et al.</em>, 2008</a>) Gabriel Ronaldo C, Abrantes Jo{\\~{a}}o, Granata Kevin <em>et al.</em>, ``_Dynamic joint stiffness of the ankle during walking: gender-related differences._'', Physical therapy in sport : official journal of the Association of Chartered Physiotherapists in Sports Medicine, vol. 9, number 1, pp. 16--24, feb 2008.  [online](http://www.sciencedirect.com/science/article/pii/S1466853X07000776)\n",
    "\n",
    "(<a id=\"cit-Powell2014\" href=\"#call-Powell2014\">Powell, Williams <em>et al.</em>, 2014</a>) Powell Douglas W., Williams D. S Blaise, Windsor Brett <em>et al.</em>, ``_Ankle work and dynamic joint stiffness in high- compared to low-arched athletes during a barefoot running task_'', Human Movement Science, vol. 34, number 1, pp. 147--156,  2014.  [online](http://dx.doi.org/10.1016/j.humov.2014.01.007)\n",
    "\n",
    "(<a id=\"cit-white2013\" href=\"#call-white2013\">White, Baldridge <em>et al.</em>, 2013</a>) White Ethan, Baldridge Elita, Brym Zachary <em>et al.</em>, ``_Nine simple ways to make it easier to (re)use your data_'', Ideas in Ecology and Evolution, vol. 6, number 2, pp. ,  2013.  [online](http://library.queensu.ca/ojs/index.php/IEE/article/view/4608)\n",
    "\n",
    "(<a id=\"cit-Tirosh2010\" href=\"#call-Tirosh2010\">Tirosh, Baker <em>et al.</em>, 2010</a>) Tirosh Oren, Baker Richard and McGinley Jenny, ``_GaitaBase: Web-based repository system for gait analysis_'', Computers in Biology and Medicine, vol. 40, number 2, pp. 201--207,  2010.  [online](http://dx.doi.org/10.1016/j.compbiomed.2009.11.016)\n",
    "\n",
    "(<a id=\"cit-Mandery2016\" href=\"#call-Mandery2016\">Mandery, Terlemez <em>et al.</em>, 2016</a>) Mandery Christian, Terlemez {\\\"{O}}mer, Do Martin <em>et al.</em>, ``_Unifying Representations and Large-Scale Whole-Body Motion Databases for Studying Human Motion_'', IEEE Transactions on Robotics, vol. 32, number 4, pp. 796--809,  2016.\n",
    "\n",
    "(<a id=\"cit-Hu2018\" href=\"#call-Hu2018\">Hu, Rouse <em>et al.</em>, 2018</a>) Hu Blair, Rouse Elliott and Hargrove Levi, ``_Benchmark Datasets for Bilateral Lower-Limb Neuromechanical Signals from Wearable Sensors during Unassisted Locomotion in Able-Bodied Individuals_'', Frontiers in Robotics and AI, vol. 5, number February, pp. 1--5,  2018.  [online](http://journal.frontiersin.org/article/10.3389/frobt.2018.00014/full)\n",
    "\n",
    "(<a id=\"cit-Stansfield2006\" href=\"#call-Stansfield2006\">Stansfield, Hillman <em>et al.</em>, 2006</a>) Stansfield B. W., Hillman S. J., Hazlewood M. E. <em>et al.</em>, ``_Regression analysis of gait parameters with speed in normal children walking at self-selected speeds_'', Gait and Posture, vol. 23, number 3, pp. 288--294,  2006.\n",
    "\n",
    "(<a id=\"cit-Schwartz2008\" href=\"#call-Schwartz2008\">Schwartz, Rozumalski <em>et al.</em>, 2008</a>) Schwartz Michael H., Rozumalski Adam and Trost Joyce P., ``_The effect of walking speed on the gait of typically developing children_'', Gait and Posture, vol. 41, number 3, pp. 351--357,  2008.\n",
    "\n",
    "(<a id=\"cit-Bovi2011a\" href=\"#call-Bovi2011a\">Bovi, Rabuffetti <em>et al.</em>, 2011</a>) Bovi Gabriele, Rabuffetti Marco, Mazzoleni Paolo <em>et al.</em>, ``_A multiple-task gait analysis approach: Kinematic, kinetic and EMG reference data for healthy young and adult subjects_'', Gait and Posture, vol. 33, number 1, pp. 6--13,  2011.  [online](http://dx.doi.org/10.1016/j.gaitpost.2010.08.009)\n",
    "\n",
    "(<a id=\"cit-Moore2015\" href=\"#call-Moore2015\">Moore, Hnat <em>et al.</em>, 2015</a>) Moore Jason K., Hnat Sandra K. and van den Bogert Antonie J., ``_An elaborate data set on human gait and the effect of mechanical perturbations_'', PeerJ, vol. 3, number April, pp. e918,  2015.  [online](https://peerj.com/articles/918)\n",
    "\n",
    "(<a id=\"cit-Khandelwal2017\" href=\"#call-Khandelwal2017\">Khandelwal and Wickstr{\\\"{o}}m, 2017</a>) Khandelwal Siddhartha and Wickstr{\\\"{o}}m Nicholas, ``_Evaluation of the performance of accelerometer-based gait event detection algorithms in different real-world scenarios using the MAREA gait database_'', Gait and Posture, vol. 51, number , pp. 84--90,  2017.\n",
    "\n"
   ]
  }
 ],
 "metadata": {
  "gist": {
   "data": {
    "description": "test_bib.ipynb",
    "public": true
   },
   "id": ""
  },
  "hide_input": false,
  "kernelspec": {
   "display_name": "Python 3",
   "language": "python",
   "name": "python3"
  },
  "language_info": {
   "codemirror_mode": {
    "name": "ipython",
    "version": 3
   },
   "file_extension": ".py",
   "mimetype": "text/x-python",
   "name": "python",
   "nbconvert_exporter": "python",
   "pygments_lexer": "ipython3",
   "version": "3.6.2"
  },
  "latex_envs": {
   "LaTeX_envs_menu_present": true,
   "autoclose": false,
   "autocomplete": true,
   "bibliofile": "biblio2.bib",
   "cite_by": "apalike",
   "current_citInitial": 1,
   "eqLabelWithNumbers": true,
   "eqNumInitial": 1,
   "hotkeys": {
    "equation": "ctrl-e",
    "itemize": "Ctrl-I"
   },
   "labels_anchors": false,
   "latex_user_defs": false,
   "report_style_numbering": false,
   "user_envs_cfg": false
  },
  "nbTranslate": {
   "displayLangs": [
    "*"
   ],
   "hotkey": "alt-t",
   "langInMainMenu": true,
   "sourceLang": "en",
   "targetLang": "fr",
   "useGoogleTranslate": true
  },
  "rise": {
   "scroll": true
  },
  "toc": {
   "base_numbering": "1",
   "nav_menu": {},
   "number_sections": true,
   "sideBar": false,
   "skip_h1_title": false,
   "title_cell": "Table of Contents",
   "title_sidebar": "Contents",
   "toc_cell": false,
   "toc_position": {},
   "toc_section_display": true,
   "toc_window_display": false
  }
 },
 "nbformat": 4,
 "nbformat_minor": 2
}
